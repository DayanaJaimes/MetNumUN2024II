{
  "nbformat": 4,
  "nbformat_minor": 0,
  "metadata": {
    "colab": {
      "provenance": []
    },
    "kernelspec": {
      "name": "python3",
      "display_name": "Python 3"
    },
    "language_info": {
      "name": "python"
    }
  },
  "cells": [
    {
      "cell_type": "markdown",
      "source": [
        "### Cramer by hand\n",
        "\n",
        "$$A = \\left[\n",
        "  \\begin{array}{cc}\n",
        "1 & 2\\\\\n",
        "3 & 4\n",
        "\\end{array}\n",
        "\\right],  \n",
        "b= \\left[\n",
        "\\begin{array}{c}\n",
        "5\\\\\n",
        "6\n",
        "\\end{array}\n",
        "\\right]\n",
        "$$\n",
        "$$\n",
        "Ax =B\n",
        "$$\n",
        "$$  \n",
        "\\left[\n",
        "  \\begin{array}{cc}\n",
        "1 & 2\\\\\n",
        "3 & 4\n",
        "\\end{array}\n",
        "\\right]\n",
        "\\left[\n",
        "\\begin{array}{c}\n",
        "x_1\\\\\n",
        "x_2\n",
        "\\end{array}\n",
        "\\right]  \n",
        "=\n",
        "\\left[\n",
        "\\begin{array}{c}\n",
        "5\\\\\n",
        "6\n",
        "\\end{array}\n",
        "\\right]\n",
        "$$\n",
        "\n",
        "$$Det\\ A =  (1 * 4) - (3 * 2)  = 4 - 6 = -2$$\n",
        "\n",
        "$$A_1 = \\left[\n",
        "  \\begin{array}{cc}\n",
        "5 & 2\\\\\n",
        "6 & 4\n",
        "\\end{array}\n",
        "\\right]\n",
        "$$\n",
        "\n",
        "$$Det\\ A_1 = (5 * 4) - (6 * 2) = 20 - 12 =  8$$\n",
        "\n",
        "$$x_1 =  \\frac{Det\\ A_1}{Det\\ A}= \\frac{8}{-2} =  -4$$\n",
        "\n",
        "$$A_2 = \\left[\n",
        "  \\begin{array}{cc}\n",
        "1 & 5\\\\\n",
        "3 & 6\n",
        "\\end{array}\n",
        "\\right]\n",
        "$$\n",
        "\n",
        "$$Det\\ A_2 = (1*6) - (3*5)  = 6 -15 = -9$$\n",
        "\n",
        "$$x_2 = \\frac{Det\\ A_2}{Det\\ A}= \\frac{-9}{-2} =  \\frac{9}{2}$$"
      ],
      "metadata": {
        "id": "SUmNm2PmfHU7"
      }
    },
    {
      "cell_type": "markdown",
      "source": [
        "- ***Adding a single digit to any number requires about 7.30 bits of processing.*** - World Mental Calculation: News and Resources for Competitive and Advanced Mental Calculation https://worldmentalcalculation.com/2019/06/30/fastest-possible-processing-speed-of-the-human-brain/\n",
        "\n",
        "- ***The human brain can process 11 million bits of information every second. But our conscious minds can handle only 40 to 50 bits of information a second.*** - Understanding Unconscious Bias https://www.npr.org/2020/07/14/891140598/understanding-unconscious-bias\n",
        "\n",
        "- ***A new way to analyze human reaction times shows that the brain processes data no faster than 60 bits per second.***- New Measure of Human Brain Processing Speed https://www.technologyreview.com/2009/08/25/210267/new-measure-of-human-brain-processing-speed/\n",
        "\n",
        "\n"
      ],
      "metadata": {
        "id": "3rH8z64pk2XV"
      }
    },
    {
      "cell_type": "markdown",
      "source": [
        "# Number of operations to compute a determinant by cofactor expasion\n",
        "- Cofactor expansion https://people.math.carleton.ca/~kcheung/math/notes/MATH1107/07/07_cofactor_expansion.html\n",
        "## Definition of A(i∣j)\n",
        "Let $A$ be an $n\\times n$ matrix. Let $i,j \\in \\{1,…,n\\}$. We define $A(i∣j)$  to be the matrix obtained from $A$ by removing row $i$ and column $j$ from $A$.\n",
        "\n",
        "## Cofactor formula\n",
        "One way of computing the determinant of an $n\\times n$  matrix\n",
        "\n",
        "$$A = \\left[\n",
        "  \\begin{array}{cccc}\n",
        "a_{11} & a_{12} & \\cdots & a_{1n}\\\\\n",
        "a_{21} & a_{22} & \\cdots & a_{2n}\\\\\n",
        "\\vdots  & \\vdots & \\ddots & \\vdots\\\\\n",
        "a_{n1} & a_{n2} & \\cdots & a_{nn}\\\\\n",
        "\\end{array}\n",
        "\\right]\n",
        "$$\n",
        "is to use the following formula called the cofactor formula.\n",
        "\n",
        "Pick either any $i\\ \\in \\{1,…,n\\}$ (fixed row) or $i\\ \\in \\{1,…,n\\}$ (fixed column). Then\n",
        "\n",
        "$$\\det(A)  = \\sum_{j=1}^n (-1)^{i+j}a_{ij} \\det(A(i∣j)) $$\n",
        "\n",
        "\n",
        "$C_{i,j}= (-1)^{i+j}a_{ij} \\det(A(i∣j))$ is called a cofactor of $A$.\n",
        "\n",
        "$$\\det(A)  = \\sum_{j=1}^n C_{i,j} $$\n",
        "\n"
      ],
      "metadata": {
        "id": "CgrSIpDOnaGQ"
      }
    },
    {
      "cell_type": "code",
      "source": [
        "# Code from https://stackoverflow.com/questions/16510111/computing-determinant-of-a-matrix-nxn-recursively\n",
        "\n",
        "import numpy as np\n",
        "\n",
        "def smaller_matrix(original_matrix,row, column):\n",
        "    for ii in range(len(original_matrix)):\n",
        "        new_matrix=np.delete(original_matrix,ii,0)\n",
        "        new_matrix=np.delete(new_matrix,column,1)\n",
        "        return new_matrix\n",
        "\n",
        "\n",
        "def determinant(matrix):\n",
        "    \"\"\"Returns a determinant of a matrix by recursive method.\"\"\"\n",
        "    (r,c) = matrix.shape\n",
        "    if r != c:\n",
        "        print(\"Error!Not a square matrix!\")\n",
        "        return None\n",
        "    elif r==2:\n",
        "        simple_determinant = matrix[0][0]*matrix[1][1]-matrix[0][1]*matrix[1][0]\n",
        "        return simple_determinant\n",
        "    else:\n",
        "        answer=0\n",
        "        for j in range(r):\n",
        "            cofactor = (-1)**(0+j) * matrix[0][j] * determinant(smaller_matrix(matrix, 0, j))\n",
        "            answer+= cofactor\n",
        "        return answer"
      ],
      "metadata": {
        "id": "J-joKRBhC7eF"
      },
      "execution_count": null,
      "outputs": []
    },
    {
      "cell_type": "code",
      "source": [
        "#test the function\n",
        "#Only works for numpy.array input\n",
        "np.random.seed(1)"
      ],
      "metadata": {
        "id": "Il2pcRD4DptG"
      },
      "execution_count": null,
      "outputs": []
    },
    {
      "cell_type": "code",
      "source": [
        "n = 2\n",
        "matrix=np.random.randint(-5,5,size=(n,n))\n",
        "matrix"
      ],
      "metadata": {
        "colab": {
          "base_uri": "https://localhost:8080/"
        },
        "id": "AgKC1-aiFRW2",
        "outputId": "e306fa25-f3b7-482b-c013-46b2c9159571"
      },
      "execution_count": null,
      "outputs": [
        {
          "output_type": "execute_result",
          "data": {
            "text/plain": [
              "array([[0, 3],\n",
              "       [4, 0]])"
            ]
          },
          "metadata": {},
          "execution_count": 3
        }
      ]
    },
    {
      "cell_type": "code",
      "source": [
        "determinant(matrix)"
      ],
      "metadata": {
        "colab": {
          "base_uri": "https://localhost:8080/"
        },
        "outputId": "aa4f0e34-9a68-4200-a433-f373a1a52c31",
        "id": "oI0rUp-SDptH"
      },
      "execution_count": null,
      "outputs": [
        {
          "output_type": "execute_result",
          "data": {
            "text/plain": [
              "-12"
            ]
          },
          "metadata": {},
          "execution_count": 4
        }
      ]
    },
    {
      "cell_type": "code",
      "source": [
        "np.linalg.det(matrix)"
      ],
      "metadata": {
        "colab": {
          "base_uri": "https://localhost:8080/"
        },
        "id": "iqZv7iK-KKXH",
        "outputId": "bfb4b0b6-c470-4cb8-9ad8-bda61856bab9"
      },
      "execution_count": null,
      "outputs": [
        {
          "output_type": "execute_result",
          "data": {
            "text/plain": [
              "-12.0"
            ]
          },
          "metadata": {},
          "execution_count": 5
        }
      ]
    },
    {
      "cell_type": "code",
      "source": [
        "round(np.linalg.det(matrix))"
      ],
      "metadata": {
        "colab": {
          "base_uri": "https://localhost:8080/"
        },
        "id": "sY21rHM-KdlO",
        "outputId": "a6bc726e-313e-407c-9429-8f27e4d410a9"
      },
      "execution_count": null,
      "outputs": [
        {
          "output_type": "execute_result",
          "data": {
            "text/plain": [
              "-12"
            ]
          },
          "metadata": {},
          "execution_count": 6
        }
      ]
    },
    {
      "cell_type": "code",
      "source": [
        "n = 5\n",
        "matrix=np.diag(np.random.randint(-10,10,size=(n)))\n",
        "matrix"
      ],
      "metadata": {
        "colab": {
          "base_uri": "https://localhost:8080/"
        },
        "id": "-QXGZWFIDs5k",
        "outputId": "ef9dd9e3-4c6a-4504-95a3-6d9e0a9a9315"
      },
      "execution_count": null,
      "outputs": [
        {
          "output_type": "execute_result",
          "data": {
            "text/plain": [
              "array([[  5,   0,   0,   0,   0],\n",
              "       [  0, -10,   0,   0,   0],\n",
              "       [  0,   0,   6,   0,   0],\n",
              "       [  0,   0,   0,  -9,   0],\n",
              "       [  0,   0,   0,   0,   2]])"
            ]
          },
          "metadata": {},
          "execution_count": 7
        }
      ]
    },
    {
      "cell_type": "code",
      "source": [
        "determinant(matrix)"
      ],
      "metadata": {
        "colab": {
          "base_uri": "https://localhost:8080/"
        },
        "id": "VP6hRwhwD-3W",
        "outputId": "a2b331f9-f9ec-4199-fdc5-2fea3a498026"
      },
      "execution_count": null,
      "outputs": [
        {
          "output_type": "execute_result",
          "data": {
            "text/plain": [
              "5400"
            ]
          },
          "metadata": {},
          "execution_count": 8
        }
      ]
    },
    {
      "cell_type": "code",
      "source": [
        "np.linalg.det(matrix)"
      ],
      "metadata": {
        "colab": {
          "base_uri": "https://localhost:8080/"
        },
        "id": "8NV7Zvp-KtRz",
        "outputId": "f9f6e5d1-b615-4fe3-fd52-dd3d128b501b"
      },
      "execution_count": null,
      "outputs": [
        {
          "output_type": "execute_result",
          "data": {
            "text/plain": [
              "5400.000000000003"
            ]
          },
          "metadata": {},
          "execution_count": 9
        }
      ]
    },
    {
      "cell_type": "code",
      "source": [
        "round(np.linalg.det(matrix))"
      ],
      "metadata": {
        "colab": {
          "base_uri": "https://localhost:8080/"
        },
        "id": "HXKK3weLKt5T",
        "outputId": "201bde73-e9d0-4ff1-b840-b2d5c75c2cbc"
      },
      "execution_count": null,
      "outputs": [
        {
          "output_type": "execute_result",
          "data": {
            "text/plain": [
              "5400"
            ]
          },
          "metadata": {},
          "execution_count": 10
        }
      ]
    },
    {
      "cell_type": "code",
      "source": [
        "# Modified from the previous code\n",
        "import numpy as np\n",
        "\n",
        "# A a squared numpy matrix\n",
        "def det(A):\n",
        "    \"\"\"Returns a determinant of a matrix by recursive method.\"\"\"\n",
        "    (r,c) = A.shape\n",
        "    if r != c:\n",
        "        print(\"Error!Not a square matrix!\")\n",
        "        return None\n",
        "    elif r==1:\n",
        "          # the code with  r==2 is more efficient but we use this\n",
        "         # because the number of operations is easier to compute\n",
        "        return A[0][0]\n",
        "    else:\n",
        "        answer=0\n",
        "        for j in range(r):\n",
        "            s = 1 if (0+j)%2 == 0 else -1\n",
        "            Aij = np.delete(A,0,0)\n",
        "            Aij = np.delete(Aij,j,1)\n",
        "            cofactor = (s) * A[0][j] * det(Aij)\n",
        "            answer+= cofactor\n",
        "        return answer"
      ],
      "metadata": {
        "id": "B258g8lnBgnG"
      },
      "execution_count": null,
      "outputs": []
    },
    {
      "cell_type": "code",
      "source": [
        "#test the function\n",
        "#Only works for numpy.array input\n",
        "np.random.seed(1)"
      ],
      "metadata": {
        "id": "ZR2mjlqiGdM6"
      },
      "execution_count": null,
      "outputs": []
    },
    {
      "cell_type": "code",
      "source": [
        "n = 2\n",
        "A=np.random.randint(-5,5,size=(n,n))\n",
        "A"
      ],
      "metadata": {
        "colab": {
          "base_uri": "https://localhost:8080/"
        },
        "outputId": "55e488e5-d614-4b65-dfc8-849baa74dec4",
        "id": "jPpBCFaoGlak"
      },
      "execution_count": null,
      "outputs": [
        {
          "output_type": "execute_result",
          "data": {
            "text/plain": [
              "array([[0, 3],\n",
              "       [4, 0]])"
            ]
          },
          "metadata": {},
          "execution_count": 13
        }
      ]
    },
    {
      "cell_type": "code",
      "source": [
        "det(A)"
      ],
      "metadata": {
        "colab": {
          "base_uri": "https://localhost:8080/"
        },
        "outputId": "0ad3b7f1-c5c7-4ef4-dd6a-afabd9edcd07",
        "id": "WKbuirZeGlak"
      },
      "execution_count": null,
      "outputs": [
        {
          "output_type": "execute_result",
          "data": {
            "text/plain": [
              "-12"
            ]
          },
          "metadata": {},
          "execution_count": 14
        }
      ]
    },
    {
      "cell_type": "code",
      "source": [
        "determinant(A)"
      ],
      "metadata": {
        "colab": {
          "base_uri": "https://localhost:8080/"
        },
        "id": "_B5xBFirTvQm",
        "outputId": "8cac0586-babe-45f1-95f8-9369c6e07367"
      },
      "execution_count": null,
      "outputs": [
        {
          "output_type": "execute_result",
          "data": {
            "text/plain": [
              "-12"
            ]
          },
          "metadata": {},
          "execution_count": 15
        }
      ]
    },
    {
      "cell_type": "code",
      "source": [
        "np.linalg.det(A)"
      ],
      "metadata": {
        "colab": {
          "base_uri": "https://localhost:8080/"
        },
        "outputId": "60f1273c-edc1-415e-c8ed-fd8ec5ac6bab",
        "id": "bRyF2dsFLbXC"
      },
      "execution_count": null,
      "outputs": [
        {
          "output_type": "execute_result",
          "data": {
            "text/plain": [
              "-12.0"
            ]
          },
          "metadata": {},
          "execution_count": 16
        }
      ]
    },
    {
      "cell_type": "code",
      "source": [
        "round(np.linalg.det(A))"
      ],
      "metadata": {
        "colab": {
          "base_uri": "https://localhost:8080/"
        },
        "outputId": "38c9e42a-7e7e-4f16-8007-408a4e92cdd0",
        "id": "sOe1w9FPLbXD"
      },
      "execution_count": null,
      "outputs": [
        {
          "output_type": "execute_result",
          "data": {
            "text/plain": [
              "-12"
            ]
          },
          "metadata": {},
          "execution_count": 17
        }
      ]
    },
    {
      "cell_type": "code",
      "source": [
        "n = 10\n",
        "\n",
        "A=np.random.randint(-10,10,size=(n,n))\n",
        "\n",
        "A"
      ],
      "metadata": {
        "colab": {
          "base_uri": "https://localhost:8080/"
        },
        "outputId": "06cd2c78-fc10-4024-ec88-4ebe0293ae73",
        "id": "jzFX1soHGlak"
      },
      "execution_count": null,
      "outputs": [
        {
          "output_type": "execute_result",
          "data": {
            "text/plain": [
              "array([[  5, -10,   6,  -9,   2,  -3,   3,  -4,   8,  -5],\n",
              "       [  8,   1,   0,   4,   8,  -6,  -1,   7, -10,   3],\n",
              "       [ -1,  -1,  -3,  -9, -10,   7,  -2,   3,   9,   5],\n",
              "       [  0,  -2,  -3,  -7,  -4,   7,  -7,  -6,   7,   1],\n",
              "       [  2,   6,   3,   9,  -1,   8,   5, -10,  -6,   5],\n",
              "       [ -8,  -3,  -2,  -1,  -7,  -3,  -6,  -5,   9,  -4],\n",
              "       [ -2, -10,  -8,   0,   5,   5,  -3,   9,   0,   4],\n",
              "       [-10,  -9,   7,   3,  -7, -10,   3,  -4,  -4,  -8],\n",
              "       [  2,   1,  -3,   3,  -2,   1,   2,   1,  -6,  -3],\n",
              "       [ -3,   3,  -6,   6,   8, -10,   3,   0,   7,  -3]])"
            ]
          },
          "metadata": {},
          "execution_count": 18
        }
      ]
    },
    {
      "cell_type": "code",
      "source": [
        "import time\n",
        "\n",
        "start_time = time.time()\n",
        "d = det(A)\n",
        "end_time = time.time()"
      ],
      "metadata": {
        "id": "I97qAqxGGlak"
      },
      "execution_count": null,
      "outputs": []
    },
    {
      "cell_type": "code",
      "source": [
        "print(\"det(A): \",d)\n",
        "print(\"time: \",end_time - start_time)"
      ],
      "metadata": {
        "colab": {
          "base_uri": "https://localhost:8080/"
        },
        "id": "s7Ud-gBiTD0n",
        "outputId": "2fa4a8a5-6a2b-48b3-df0b-376cc9d1234c"
      },
      "execution_count": null,
      "outputs": [
        {
          "output_type": "stream",
          "name": "stdout",
          "text": [
            "det(A):  29129065307\n",
            "time:  74.12559056282043\n"
          ]
        }
      ]
    },
    {
      "cell_type": "code",
      "source": [
        "import time\n",
        "\n",
        "start_time = time.time()\n",
        "d = determinant(A)\n",
        "end_time = time.time()"
      ],
      "metadata": {
        "id": "kjLXFQOeTRd2"
      },
      "execution_count": null,
      "outputs": []
    },
    {
      "cell_type": "code",
      "source": [
        "print(\"determinant(A): \",d)\n",
        "print(\"time: \",end_time - start_time)"
      ],
      "metadata": {
        "colab": {
          "base_uri": "https://localhost:8080/"
        },
        "id": "_TQFWy4ZSiDZ",
        "outputId": "07434601-eb28-4d7c-813e-fca13f18e255"
      },
      "execution_count": null,
      "outputs": [
        {
          "output_type": "stream",
          "name": "stdout",
          "text": [
            "determinant(A):  29129065307\n",
            "time:  29.52248978614807\n"
          ]
        }
      ]
    },
    {
      "cell_type": "code",
      "source": [
        "import time\n",
        "\n",
        "start_time = time.time()\n",
        "d = np.linalg.det(A)\n",
        "end_time = time.time()"
      ],
      "metadata": {
        "id": "jL23i77VT55-"
      },
      "execution_count": null,
      "outputs": []
    },
    {
      "cell_type": "code",
      "source": [
        "print(\"np.linalg.det(A): \",d)\n",
        "print(\"time: \",end_time - start_time)"
      ],
      "metadata": {
        "colab": {
          "base_uri": "https://localhost:8080/"
        },
        "id": "n94nx14VT5wn",
        "outputId": "e49c982d-8276-4d1b-8a9b-b7e180085b87"
      },
      "execution_count": null,
      "outputs": [
        {
          "output_type": "stream",
          "name": "stdout",
          "text": [
            "np.linalg.det(A):  29129065306.99992\n",
            "time:  0.00022220611572265625\n"
          ]
        }
      ]
    },
    {
      "cell_type": "markdown",
      "source": [
        "# Estimating the time by instruction in Python in a Colab machine"
      ],
      "metadata": {
        "id": "Ssedt2z56DNC"
      }
    },
    {
      "cell_type": "code",
      "source": [
        "import numpy as np\n",
        "\n",
        "n = 100\n",
        "\n",
        "A = np.ones((n,n))\n",
        "\n",
        "A"
      ],
      "metadata": {
        "colab": {
          "base_uri": "https://localhost:8080/"
        },
        "id": "1KhlyeNi4uwa",
        "outputId": "4c9b79cb-a234-46d1-fe03-adfae0a10c00"
      },
      "execution_count": null,
      "outputs": [
        {
          "output_type": "execute_result",
          "data": {
            "text/plain": [
              "array([[1., 1., 1., ..., 1., 1., 1.],\n",
              "       [1., 1., 1., ..., 1., 1., 1.],\n",
              "       [1., 1., 1., ..., 1., 1., 1.],\n",
              "       ...,\n",
              "       [1., 1., 1., ..., 1., 1., 1.],\n",
              "       [1., 1., 1., ..., 1., 1., 1.],\n",
              "       [1., 1., 1., ..., 1., 1., 1.]])"
            ]
          },
          "metadata": {},
          "execution_count": 25
        }
      ]
    },
    {
      "cell_type": "code",
      "source": [
        "B = np.ones((n,n))\n",
        "\n",
        "B"
      ],
      "metadata": {
        "colab": {
          "base_uri": "https://localhost:8080/"
        },
        "id": "RKtHO3UY5M87",
        "outputId": "02435616-dda5-4223-8109-8529a318f06f"
      },
      "execution_count": null,
      "outputs": [
        {
          "output_type": "execute_result",
          "data": {
            "text/plain": [
              "array([[1., 1., 1., ..., 1., 1., 1.],\n",
              "       [1., 1., 1., ..., 1., 1., 1.],\n",
              "       [1., 1., 1., ..., 1., 1., 1.],\n",
              "       ...,\n",
              "       [1., 1., 1., ..., 1., 1., 1.],\n",
              "       [1., 1., 1., ..., 1., 1., 1.],\n",
              "       [1., 1., 1., ..., 1., 1., 1.]])"
            ]
          },
          "metadata": {},
          "execution_count": 26
        }
      ]
    },
    {
      "cell_type": "code",
      "source": [
        "import time\n",
        "\n",
        "C= np.zeros((n,n))\n",
        "\n",
        "start_time = time.time()\n",
        "for i in range(n):\n",
        "        for j in range(n):\n",
        "            C[i][j] = 0\n",
        "            for k in range(len(A[0])):\n",
        "                C[i][j] += A[i][k] * B[k][j]\n",
        "end_time = time.time()\n",
        "print(end_time - start_time)"
      ],
      "metadata": {
        "colab": {
          "base_uri": "https://localhost:8080/"
        },
        "id": "0UFSLi-F5P0a",
        "outputId": "2f8e0370-735b-480c-a39c-d34445e840a0"
      },
      "execution_count": null,
      "outputs": [
        {
          "output_type": "stream",
          "name": "stdout",
          "text": [
            "1.1653506755828857\n"
          ]
        }
      ]
    },
    {
      "cell_type": "code",
      "source": [
        "C"
      ],
      "metadata": {
        "colab": {
          "base_uri": "https://localhost:8080/"
        },
        "id": "h9zr4Z9P61bs",
        "outputId": "2e5bb5ca-181b-43d7-db18-bbe01e96cc91"
      },
      "execution_count": null,
      "outputs": [
        {
          "output_type": "execute_result",
          "data": {
            "text/plain": [
              "array([[100., 100., 100., ..., 100., 100., 100.],\n",
              "       [100., 100., 100., ..., 100., 100., 100.],\n",
              "       [100., 100., 100., ..., 100., 100., 100.],\n",
              "       ...,\n",
              "       [100., 100., 100., ..., 100., 100., 100.],\n",
              "       [100., 100., 100., ..., 100., 100., 100.],\n",
              "       [100., 100., 100., ..., 100., 100., 100.]])"
            ]
          },
          "metadata": {},
          "execution_count": 28
        }
      ]
    },
    {
      "cell_type": "code",
      "source": [
        "time_by_oper_python = (end_time - start_time)/(2*n**3 - n**2)\n",
        "\n",
        "time_by_oper_python"
      ],
      "metadata": {
        "colab": {
          "base_uri": "https://localhost:8080/"
        },
        "id": "iEhaMEK77Ko7",
        "outputId": "9c6afd56-be69-4ebb-8b1a-74311cd248a8"
      },
      "execution_count": null,
      "outputs": [
        {
          "output_type": "execute_result",
          "data": {
            "text/plain": [
              "5.856033545642642e-07"
            ]
          },
          "metadata": {},
          "execution_count": 29
        }
      ]
    },
    {
      "cell_type": "code",
      "source": [
        "import time\n",
        "import numpy as np\n",
        "\n",
        "start_time = time.time()\n",
        "C = A@B\n",
        "end_time = time.time()\n",
        "print(end_time - start_time)"
      ],
      "metadata": {
        "colab": {
          "base_uri": "https://localhost:8080/"
        },
        "id": "TfGsw6UF9o-a",
        "outputId": "ba269344-e51a-4dd6-e9fd-197736172cf1"
      },
      "execution_count": null,
      "outputs": [
        {
          "output_type": "stream",
          "name": "stdout",
          "text": [
            "0.0006449222564697266\n"
          ]
        }
      ]
    },
    {
      "cell_type": "code",
      "source": [
        "C"
      ],
      "metadata": {
        "colab": {
          "base_uri": "https://localhost:8080/"
        },
        "id": "Q5MtZtVT93oQ",
        "outputId": "1990ff46-e366-4db8-d702-b9e8fc5edcf7"
      },
      "execution_count": null,
      "outputs": [
        {
          "output_type": "execute_result",
          "data": {
            "text/plain": [
              "array([[100., 100., 100., ..., 100., 100., 100.],\n",
              "       [100., 100., 100., ..., 100., 100., 100.],\n",
              "       [100., 100., 100., ..., 100., 100., 100.],\n",
              "       ...,\n",
              "       [100., 100., 100., ..., 100., 100., 100.],\n",
              "       [100., 100., 100., ..., 100., 100., 100.],\n",
              "       [100., 100., 100., ..., 100., 100., 100.]])"
            ]
          },
          "metadata": {},
          "execution_count": 31
        }
      ]
    },
    {
      "cell_type": "code",
      "source": [
        "time_by_oper_numpy = (end_time - start_time)/(2*n**3 - n**2)\n",
        "\n",
        "time_by_oper_numpy"
      ],
      "metadata": {
        "colab": {
          "base_uri": "https://localhost:8080/"
        },
        "id": "DTVYQYxT-TsJ",
        "outputId": "b5f5371e-23ba-45c6-8292-b13e4425380a"
      },
      "execution_count": null,
      "outputs": [
        {
          "output_type": "execute_result",
          "data": {
            "text/plain": [
              "3.2408153591443544e-10"
            ]
          },
          "metadata": {},
          "execution_count": 32
        }
      ]
    },
    {
      "cell_type": "markdown",
      "source": [
        "# Time estimation for the digital computer computation of a 3 x 3 matrix determinant by cofactor expansion\n",
        "\n",
        "The number of operations $(+,-,*)$ perfomed  *det(A)* algorithm that calculates\n",
        "\n",
        "$$\\det(A)  = \\sum_{j=1}^n (-1)^{i+j}a_{ij} \\det(A(i∣j)) $$\n",
        "\n",
        "is given by\n",
        "\n",
        "$$\\begin{array}{lll}\n",
        "T(n) & =&  nT(n-1) + 5n , T(1) = 1\\\\\n",
        "\\end{array}\n",
        "$$\n",
        "\n",
        "$$\\begin{array}{lll}\n",
        "T(n) & =&  nT(n-1) + 5n\\\\\n",
        "     & =&  n[(n-1) T(n-2) + 5 (n-1) +10] + 5n  \\\\\n",
        "     & =&  n(n-1) T(n-2) + 5 n  (n-1) + 5n \\\\\n",
        "     & =&  n(n-1) [(n-2) T(n-3) + 5 (n-2)] + 5 n(n-1) + 5n\\\\\n",
        "     & = & n(n-1)(n-2) T(n-3) + 5n(n-1)(n-2)+  5 n  (n-1) + 5n \\\\\n",
        "     & \\vdots\\\\\n",
        "     & = &  n(n-1)(n-2)\\cdots (n -(n-2))  T(1) + [5n(n-1)(n-2)(n-3)\\cdots (n -(n-3))] + \\cdots + [5 n (n-1)]+ 5n \\\\\n",
        "    & = & n! + [5n(n-1)(n-2)(n-3)\\cdots 2] + [5n(n-1)(n-2)(n-3)\\cdots 3]+ \\cdots +[5 n (n-1) (n-3)] + [5 n (n-1)]+ 5n  \n",
        "\\end{array}\n",
        "$$\n",
        "\n",
        "$$T(n) = n! + 5 \\sum_{i=0}^{n-1} n!/i! = n! + 5 n!\\sum_{i=0}^{n-1} \\frac{1}{i!} < n! + 5 e n! < 16 n!  $$\n",
        "\n",
        "1. Asumming that an arithmetic operation takes the *time_by_oper_python* estimated before,  what is the maximun square matrix size for which the deteminant can be computed with cofactor extesion in $\\le$ 3 minute. Report the time at [LABCramer](https://docs.google.com/spreadsheets/d/1JNUbuj3QHcyPmp8i6kNreUFucj2mOvKHkCFHHy7zfws/edit?usp=sharing).\n",
        "\n",
        "2. Run an experiment with a random matrix of that size and report the time at [LABCramer](https://docs.google.com/spreadsheets/d/1JNUbuj3QHcyPmp8i6kNreUFucj2mOvKHkCFHHy7zfws/edit?usp=sharing).\n",
        "\n",
        "If the determinant of a $n \\times n$ square matrix takes $16 n!$ operations how much takes the Crammer solution of $n \\times n$ systems of linear equations?\n",
        "\n",
        "\n",
        "\n",
        "\n"
      ],
      "metadata": {
        "id": "PhAai3wzo_Tc"
      }
    },
    {
      "cell_type": "code",
      "source": [
        "import math\n",
        "\n",
        "time_by_oper_numpy = (end_time - start_time)/(2*n**3 - n**2)\n",
        "\n",
        "def T(n):\n",
        "    result = math.factorial(n)\n",
        "    for i in range(n):\n",
        "        result += 5 * (math.factorial(n) // math.factorial(i))\n",
        "    return result\n",
        "\n",
        "def total_time(n):\n",
        "    return T(n) * time_by_oper_python\n",
        "\n",
        "#busca el valor máximo de n tal que el tiempo total no supere 180 segundos\n",
        "max_n = 1\n",
        "while total_time(max_n) <= 180:\n",
        "    max_n += 1\n",
        "\n",
        "print(\"El tamaño máximo de la matriz es\", max_n - 1)"
      ],
      "metadata": {
        "colab": {
          "base_uri": "https://localhost:8080/"
        },
        "id": "3XfmIlKY7fgB",
        "outputId": "e874bb2e-ab6e-4a14-9297-6f688c272359"
      },
      "execution_count": null,
      "outputs": [
        {
          "output_type": "stream",
          "name": "stdout",
          "text": [
            "El tamaño máximo de la matriz es 10\n"
          ]
        }
      ]
    },
    {
      "cell_type": "code",
      "source": [
        "import numpy as np\n",
        "\n",
        "#Creación de la matriz aleatoria\n",
        "n = max_n-1\n",
        "\n",
        "matrix = np.random.randint(-10, 10, size=(n, n))\n",
        "print(matrix)"
      ],
      "metadata": {
        "colab": {
          "base_uri": "https://localhost:8080/"
        },
        "id": "EcqtLCAX9tcs",
        "outputId": "e80da8f3-5dc6-43a9-aa38-7ac586a2dae2"
      },
      "execution_count": null,
      "outputs": [
        {
          "output_type": "stream",
          "name": "stdout",
          "text": [
            "[[  0 -10   2  -9  -1   8   9  -9  -8   2]\n",
            " [ -3  -8   0 -10  -1   8  -4  -8  -3  -3]\n",
            " [  6   5  -5   7   0   6  -5   3   7   8]\n",
            " [ -9   0 -10  -3 -10   9   7   4   3   1]\n",
            " [ -4   3   5  -1  -8  -3  -5  -6  -5  -2]\n",
            " [  3   7   7   5   3  -2   4   3   6   0]\n",
            " [  3  -7  -8   4   4 -10   1  -7  -9  -8]\n",
            " [  9   6 -10   8   0  -2   3  -7 -10  -2]\n",
            " [  3   8   5  -1 -10   2   9   7   0   2]\n",
            " [  5   4   9   9   1  -3  -7   5   4   9]]\n"
          ]
        }
      ]
    },
    {
      "cell_type": "code",
      "source": [
        "import time\n",
        "\n",
        "start_time = time.time()\n",
        "d = det(matrix)\n",
        "end_time = time.time()"
      ],
      "metadata": {
        "id": "KKj67EFD-Ci0"
      },
      "execution_count": null,
      "outputs": []
    },
    {
      "cell_type": "code",
      "source": [
        "print(\"time: \",end_time - start_time)"
      ],
      "metadata": {
        "colab": {
          "base_uri": "https://localhost:8080/"
        },
        "id": "MoighhKx-FB7",
        "outputId": "ee6b9f0d-74cd-4467-f38c-8136a9db7943"
      },
      "execution_count": null,
      "outputs": [
        {
          "output_type": "stream",
          "name": "stdout",
          "text": [
            "time:  64.63371586799622\n"
          ]
        }
      ]
    },
    {
      "cell_type": "markdown",
      "source": [
        "La solución de un sistema de ecuaciones lineales de tamaño n×n utilizando la regla de Cramer implica calcular el determinante de la matriz del sistema y el determinante de n matrices adicionales, cada una de las cuales se obtiene reemplazando una columna de la matriz del sistema con el vector del lado derecho del sistema. Por lo tanto, si el cálculo del determinante de una matriz cuadrada de tamaño n×n toma 16n! operaciones, entonces la solución del sistema de ecuaciones lineales utilizando la regla de Cramer tomará 16n!(n+1) operaciones."
      ],
      "metadata": {
        "id": "NKD00KAi-h7Q"
      }
    },
    {
      "cell_type": "markdown",
      "source": [
        "# Time estimation for the human computer computation of a 3 x 3 matrix determinant by cofactor expansion\n",
        "\n",
        " Write a 3 x 3 matrix with the first element as your list number Mod 10 and the rest row by row 1,2,3,...9 skipimg the first element, by example if youir list number is 12, your list number Mod 10 is 2 and the matrix is\n",
        "$$A = \\left[\n",
        "  \\begin{array}{ccc}\n",
        "2 & 1 & 3\\\\\n",
        "4 & 5 & 6\\\\\n",
        "7 & 8 & 9\\\\\n",
        "\\end{array}\n",
        "\\right]\n",
        "$$\n",
        "Use a chronometer like http://online-stopwatch.chronme.com/ to estimate the time to compute the determinant by using the procedure in the follo wing exmaple (https://people.math.carleton.ca/~kcheung/math/notes/MATH1107/07/07_cofactor_expansion.html):<br />  \n",
        "\n",
        "Let\n",
        "\n",
        "$$A = \\begin{bmatrix} 4 & 1 & 2\\\\ 3 & 5 & 6\\\\ 7 & 8 & 9 \\end{bmatrix}$$\n",
        "\n",
        "we compute $\\det(A)$ by expanding along row $2$ as <br /> <br />\n",
        "\n",
        "$$\\begin{eqnarray} \\det(A) & = \\begin{bmatrix} 4 & 1 & 2\\\\ 3 & 5 & 6\\\\ 7 & 8 & 9 \\end{bmatrix}\n",
        "\\\\ & = & \\left|\\begin{matrix} 4 & 1 & 2 \\\\ 3 & 5 & 6 \\\\ 7 & 8 & 9\\end{matrix}\\right| \\begin{matrix} 4 & 1  \\\\ 3 & 5  \\\\ 7 & 8 \\end{matrix}  \\\\ & = & 4 \\cdot 5 \\cdot 9 + 1 \\cdot 6 \\cdot 7 + 2 \\cdot 3 \\cdot 8 - (7\\cdot 5 \\cdot 2 + 8 \\cdot 6 \\cdot 4 + 9 \\cdot 3 \\cdot 1 )\\\\ & = & 180 + 42 + 48 - (70 + 192 + 27)\\\\ & = & 270 -289 \\\\ & = & -19 \\end{eqnarray}$$\n",
        "\n",
        "3. Report the time at [LABCramer](https://docs.google.com/spreadsheets/d/1JNUbuj3QHcyPmp8i6kNreUFucj2mOvKHkCFHHy7zfws/edit?usp=sharing)\n",
        "4. Report the value of the determinant at [LABCramer](https://docs.google.com/spreadsheets/d/1JNUbuj3QHcyPmp8i6kNreUFucj2mOvKHkCFHHy7zfws/edit?usp=sharing)\n",
        "\n",
        "\n",
        "\n"
      ],
      "metadata": {
        "id": "__brdhGadAXY"
      }
    },
    {
      "cell_type": "markdown",
      "source": [
        "Numero en la lista 24 mod 10 = 4\n",
        "$$A = \\left[\n",
        "  \\begin{array}{ccc}\n",
        "4 & 1 & 2\\\\\n",
        "3 & 5 & 6\\\\\n",
        "7 & 8 & 9\\\\\n",
        "\\end{array}\n",
        "\\right]\n",
        "$$"
      ],
      "metadata": {
        "id": "5RMeCExdBimj"
      }
    },
    {
      "cell_type": "code",
      "source": [
        "matrix2 = np.array([[4, 1, 2], [3, 5, 6], [7, 8, 9]])"
      ],
      "metadata": {
        "id": "0KOSQpGcEd3v"
      },
      "execution_count": null,
      "outputs": []
    },
    {
      "cell_type": "markdown",
      "source": [
        "![image.png](data:image/png;base64,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)"
      ],
      "metadata": {
        "id": "RKi2ev0aIUgh"
      }
    },
    {
      "cell_type": "code",
      "source": [
        "print(\"det(A): \",d)"
      ],
      "metadata": {
        "colab": {
          "base_uri": "https://localhost:8080/"
        },
        "id": "JRF0L20yEoDu",
        "outputId": "917b5e18-e4ca-48de-d2d0-d97a365284c8"
      },
      "execution_count": 41,
      "outputs": [
        {
          "output_type": "stream",
          "name": "stdout",
          "text": [
            "det(A):  -19\n"
          ]
        }
      ]
    }
  ]
}